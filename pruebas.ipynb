{
 "cells": [
  {
   "cell_type": "code",
   "execution_count": null,
   "id": "5a6fe037",
   "metadata": {},
   "outputs": [
    {
     "name": "stdout",
     "output_type": "stream",
     "text": [
      "Carnes\n",
      "Ensaladas\n",
      "Pastas\n",
      "Postres\n",
      "Entrecot al Malbec    Matambre a la Pizza\n"
     ]
    }
   ],
   "source": [
    "from pathlib import Path\n",
    "from os import system\n",
    "categorias = Path(Path.home(),'Proyecto Recetario','Recetas')\n",
    "for categoria in categorias.iterdir():\n",
    "    print(categoria.name)\n",
    "    \n",
    "eleccion = 'Carnes'\n",
    "\n",
    "def leer_receta(eleccion):\n",
    "    ruta_recetas = Path(Path.home(),'Proyecto Recetario','Recetas',eleccion)\n",
    "    recetas = [receta.stem for receta in ruta_recetas.iterdir()]\n",
    "    receta1,receta2 = recetas\n",
    "    print(f'{receta1}    {receta2}')\n",
    "    return receta1,receta2\n",
    "\n",
    "def elexio(*args):\n",
    "    ruta_recetas = Path(Path.home(),'Proyecto Recetario','Recetas',eleccion)\n",
    "    recetas = args\n",
    "    elegir = input(\"(RECUERDO, escriba la receta tal y como aparece en pantalla)\\nElija qué receta quiere leer:  \")\n",
    "    if elegir() not in recetas:\n",
    "        print('Por favor, escriba bien la receta')\n",
    "    else:\n",
    "        print(open(Path(ruta_recetas,elegir+\".txt\")))\n",
    "        \n",
    "recetas = leer_receta(eleccion)\n",
    "elexio()"
   ]
  },
  {
   "cell_type": "code",
   "execution_count": 26,
   "id": "bdcbcb0b",
   "metadata": {},
   "outputs": [
    {
     "name": "stdout",
     "output_type": "stream",
     "text": [
      "Esta es la receta del Matambre a la Pizza\n",
      "['Entrecot al Malbec', 'Matambre a la Pizza']\n",
      "Aquí tiene su receta de Entrecot al Malbec:\n",
      "\n",
      "Esta es la receta del Entrecot al Malbec\n"
     ]
    }
   ],
   "source": [
    "from pathlib import Path\n",
    "\n",
    "archivo = Path(Path.home(),'Proyecto Recetario','Recetas','Carnes','Matambre a la Pizza.txt')\n",
    "print(archivo.read_text())\n",
    "def leer_receta(eleccion):\n",
    "    ruta_recetas = Path(Path.home(),'Proyecto Recetario','Recetas',eleccion)\n",
    "    recetas = [receta.stem for receta in ruta_recetas.iterdir()]\n",
    "    print(recetas)\n",
    "    elegir = input(\"(RECUERDO, escriba la receta tal y como aparece en pantalla)\\nElija qué receta quiere leer:  \")\n",
    "    if elegir not in recetas:\n",
    "        print('Por favor, escriba bien la receta')\n",
    "    else:\n",
    "        receta = Path(ruta_recetas,(elegir+'.txt'))\n",
    "        print(f'Aquí tiene su receta de {elegir}:\\n\\n{receta.read_text()}\\n\\n')\n",
    "leer_receta('Carnes')\n"
   ]
  },
  {
   "cell_type": "code",
   "execution_count": null,
   "id": "f289ad50",
   "metadata": {},
   "outputs": [
    {
     "name": "stdout",
     "output_type": "stream",
     "text": [
      "\\ Entrecot al Malbec  \\  Matambre a la Pizza  \\  Ensalada Griega  \\  Ensalada Mediterranea  \\  Canelones de Espinaca  \\  Ravioles de Ricotta  \\  Compota de Manzana  \\  Tarta de Frambuesa \\\n"
     ]
    }
   ],
   "source": [
    "from pathlib import Path\n",
    "\n",
    "ruta_principal = Path(Path.home(),'Proyecto Recetario','Recetas')\n",
    "numero_recetas = [numero.stem for numero in Path(ruta_principal).glob('**/*.txt')]\n",
    "print(\"  \\\\  \".join(numero_recetas))"
   ]
  }
 ],
 "metadata": {
  "kernelspec": {
   "display_name": "Python 3",
   "language": "python",
   "name": "python3"
  },
  "language_info": {
   "codemirror_mode": {
    "name": "ipython",
    "version": 3
   },
   "file_extension": ".py",
   "mimetype": "text/x-python",
   "name": "python",
   "nbconvert_exporter": "python",
   "pygments_lexer": "ipython3",
   "version": "3.12.1"
  }
 },
 "nbformat": 4,
 "nbformat_minor": 5
}
